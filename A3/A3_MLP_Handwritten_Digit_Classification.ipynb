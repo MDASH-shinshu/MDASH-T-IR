{
 "cells": [
  {
   "cell_type": "markdown",
   "metadata": {
    "id": "u5-sJJLDXT2v",
    "slideshow": {
     "slide_type": "slide"
    }
   },
   "source": [
    "# 【適用事例】 3層型ニューラルネットワークを用いた数字認識\n",
    "\n",
    "《学修項目》\n",
    "*   画像データと対応する教師データの読み込み\n",
    "*   ニューラルネットワークの構成と学習法の設定\n",
    "*   ニューラルネットワークの学習と評価\n",
    "*   ニューラルネットワークの構成・学習法の変更による効果\n",
    "\n",
    "《キーワード》\n",
    "> TensorFlow、数字画像認識、MNIST、最適化アルゴリズム、SGD（確率的勾配降下法）、Adam、クロスエントロピー、識別精度(accuracy)、エポック(epoch)、活性化関数、シグモイド関数、ReLU、過学習、ドロップアウト\n"
   ]
  },
  {
   "cell_type": "markdown",
   "metadata": {
    "id": "RY5_bPJNQwxM",
    "slideshow": {
     "slide_type": "slide"
    }
   },
   "source": [
    "## 1. はじめに\n",
    "\n",
    "ここでは、Google社が開発した機械学習用のプラットフォーム TensorFlow を用いて、数字画像認識を行うプログラムを作成する。作成には、Web上でPythonを記述・実行することができるGoogle Colaboratory を用いる。Webの教材ページに、サンプルプログラムをノートブック形式で掲載するので、そのプログラムを実際に実行しながら、動作確認をすると良い。なお、プログラムを完全に理解するには、PythonやNumpy（Python用の数値計算ライブラリ）の使い方を知る必要があるので、必要に応じて学習されたい。\n",
    "\n",
    "* [TensorFlow](https://www.tensorflow.org/tutorials?hl=ja)\n",
    "* [Google Colaboratory](https://colab.research.google.com/notebooks/intro.ipynb?hl=ja)"
   ]
  },
  {
   "cell_type": "markdown",
   "metadata": {
    "id": "Nvwiwbm_msCM",
    "slideshow": {
     "slide_type": "slide"
    }
   },
   "source": [
    "## 2. 画像データと対応する教師データの読み込み"
   ]
  },
  {
   "cell_type": "markdown",
   "metadata": {
    "id": "42MWNwyu-Z7B",
    "slideshow": {
     "slide_type": "slide"
    }
   },
   "source": [
    "最初にTensorFlowとNumpy のモジュールをインポートし、数字の画像データベースであるMNISTを読み込む。\n"
   ]
  },
  {
   "cell_type": "code",
   "execution_count": 26,
   "metadata": {
    "colab": {
     "base_uri": "https://localhost:8080/"
    },
    "executionInfo": {
     "elapsed": 456,
     "status": "ok",
     "timestamp": 1701824725574,
     "user": {
      "displayName": "和﨑克己",
      "userId": "01531185103078206810"
     },
     "user_tz": -540
    },
    "id": "WZDQQ7YpgGvZ",
    "outputId": "b63ffb74-d5ef-44f9-d6a2-c09bc0d14386",
    "slideshow": {
     "slide_type": "fragment"
    }
   },
   "outputs": [
    {
     "name": "stdout",
     "output_type": "stream",
     "text": [
      "<class 'numpy.ndarray'>\n",
      "uint8\n",
      "3\n",
      "(60000, 28, 28)\n"
     ]
    }
   ],
   "source": [
    "# TensorFlow, NumPyモジュールのインポートと数字画像データの読み込み\n",
    "\n",
    "import tensorflow as tf  #TensorFlowモジュールのインポート\n",
    "import numpy as np     #NumPyモジュールのインポート\n",
    "mnist = tf.keras.datasets.mnist  #数字画像データベースの参照変数の設定\n",
    "(x_train, y_train), (x_test, y_test) = mnist.load_data()  #画像の読み込み\n",
    "print(type(x_train))  #x_trainのデータ型の確認\n",
    "print(x_train.dtype)  #x_train(多次元配列)の各要素のデータ型の確認\n",
    "print(x_train.ndim)   #x_train配列の次元数の確認\n",
    "print(x_train.shape)  #x_train配列の大きさの確認"
   ]
  },
  {
   "cell_type": "markdown",
   "metadata": {
    "id": "rzWh05O2gZA-",
    "slideshow": {
     "slide_type": "fragment"
    }
   },
   "source": [
    "ここで、x_train, y_train, x_test, y_testのデータ型はNumPyの多次元配列(numpy.ndarray)となる。x_trainは学習用データで数字画像を表現している3次元配列である。各文字画像は28×28画素であり、各画素は0から255の間の整数(uint8)で表現され（グレースケール画像）、このような文字画像が60,000枚、含まれている。一方、y_trainは学習用データの教師データを示している1次元配列である。各要素は0から9の間の整数値(uint8)で表現され、全体で60,000個が含まれている。x_test, y_testはテスト用データの文字画像とその教師データをそれぞれ示しており、データ構造は、x_trainとy_trainと同様である。ただし、文字画像と教師データの個数はそれぞれ10,000個となっている。（上記プログラムのように多次元配列の各属性値はprint文で確認可能）。"
   ]
  },
  {
   "cell_type": "code",
   "execution_count": 27,
   "metadata": {
    "executionInfo": {
     "elapsed": 5,
     "status": "ok",
     "timestamp": 1701824726315,
     "user": {
      "displayName": "和﨑克己",
      "userId": "01531185103078206810"
     },
     "user_tz": -540
    },
    "id": "S2aY1tyNgdtP",
    "slideshow": {
     "slide_type": "slide"
    }
   },
   "outputs": [],
   "source": [
    "# 数字画像の各画素値を0.0から1.0の値に正規化\n",
    "\n",
    "x_train, x_test = x_train / 255.0, x_test / 255.0"
   ]
  },
  {
   "cell_type": "markdown",
   "metadata": {
    "id": "g4nJjlebghav",
    "slideshow": {
     "slide_type": "fragment"
    }
   },
   "source": [
    "次に、上記の計算をすることにより、x_trainとx_testの各画素値を0.0から1.0の浮動小数点数(float64)に変換する。このように、ニューラルネットワークへの入力値は0から1に正規化することが多い。以下、x_train, y_trainの学習データを図示すると次のような構成になっている。なお、x_train[i] (x_trainのi番目のデータ)の画像に対する教師データ(正解データ)はy_train[i]に格納されている。\n",
    "\n",
    "<figure>\n",
    "<img src='https://raw.githubusercontent.com/MDASH-shinshu/MDASH-T-IR/main/A3/figures/fig33.png' alt='学習データの構成' width='400' border='1'>\n",
    "<figcaption>図33　学習データの構成</figcaption>\n",
    "</figure>\n"
   ]
  },
  {
   "cell_type": "markdown",
   "metadata": {
    "id": "C4DWkZgUhUeK",
    "slideshow": {
     "slide_type": "slide"
    }
   },
   "source": [
    "## 3. ニューラルネットワークの構成と学習法の設定\n",
    "\n",
    "次に、ニューラルネットワークの構成と学習法を設定する。ここでは、次のように設定してみる。\n",
    "\n",
    "*  入力層へは、28画素×28画素を1列に並べた784次元のベクトル（各画素は0～1の値）を入力する。よって、入力層のユニット数は784個となる。\n",
    "*  中間層を64個とし、活性化関数はシグモイド関数を採用。\n",
    "*  出力層は、数字のクラス数10個に合わせて、ユニット数は10個とし、ソフトマックス関数で各クラスの確率値を出力。\n",
    "*  最適化アルゴリズムとしてSGD（確率的勾配降下法）を採用。\n",
    "*  誤差関数としてクラス出力に関するクロスエントロピーを採用\n",
    "*  学習途中の評価のための尺度として識別精度(accuracy)を指定\n"
   ]
  },
  {
   "cell_type": "markdown",
   "metadata": {
    "id": "_vRXlFYBhXRL",
    "slideshow": {
     "slide_type": "slide"
    }
   },
   "source": [
    "以上を実現するために次のように記述する。"
   ]
  },
  {
   "cell_type": "code",
   "execution_count": 28,
   "metadata": {
    "executionInfo": {
     "elapsed": 4,
     "status": "ok",
     "timestamp": 1701824726315,
     "user": {
      "displayName": "和﨑克己",
      "userId": "01531185103078206810"
     },
     "user_tz": -540
    },
    "id": "LJV2sRqthb1p",
    "slideshow": {
     "slide_type": "fragment"
    }
   },
   "outputs": [],
   "source": [
    "# モデル構築(A)\n",
    "\n",
    "model = tf.keras.Sequential([\n",
    "  tf.keras.layers.Flatten(input_shape=(28, 28)),\n",
    "  tf.keras.layers.Dense(64, activation='sigmoid'),  #活性化関数：シグモイド関数を指定\n",
    "  tf.keras.layers.Dense(10)\n",
    "])\n",
    "model.compile(optimizer='sgd',\n",
    "              loss=tf.keras.losses.SparseCategoricalCrossentropy(from_logits=True),\n",
    "              metrics=['accuracy'])"
   ]
  },
  {
   "cell_type": "markdown",
   "metadata": {
    "id": "VNTp13Kmh8Qq",
    "slideshow": {
     "slide_type": "slide"
    }
   },
   "source": [
    "上記の構造を図示すると次のとおりである。\n",
    "\n",
    "<figure>\n",
    "<img src='https://raw.githubusercontent.com/MDASH-shinshu/MDASH-T-IR/main/A3/figures/fig34.png' alt='ニューラルネットワークの構成' width='500' border='1'>\n",
    "<figcaption>図34　ニューラルネットワークの構成</figcaption>\n",
    "</figure>\n"
   ]
  },
  {
   "cell_type": "markdown",
   "metadata": {
    "id": "g4Ae6GskiWyi",
    "slideshow": {
     "slide_type": "slide"
    }
   },
   "source": [
    "## 4. ニューラルネットワークの学習と評価\n",
    "\n",
    "次に、学習用データを用いて構成したニューラルネットワークを使って学習を行う。ここでは、学習用データとして、先ほど読み込んだ x_train と y_trainのデータを用いる。x_trainは60,000枚の数字画像（グレースケール画像）であり、y_trainはそれらの各画像に対応する正解データ(0から9の数字)である。学習を実施するには、下記プログラムを実行する。"
   ]
  },
  {
   "cell_type": "code",
   "execution_count": 29,
   "metadata": {
    "colab": {
     "base_uri": "https://localhost:8080/"
    },
    "executionInfo": {
     "elapsed": 27943,
     "status": "ok",
     "timestamp": 1701824754254,
     "user": {
      "displayName": "和﨑克己",
      "userId": "01531185103078206810"
     },
     "user_tz": -540
    },
    "id": "k67Zn7_Xier-",
    "outputId": "fdda53e4-8c2a-4543-8413-f50cb31cb495",
    "slideshow": {
     "slide_type": "slide"
    }
   },
   "outputs": [
    {
     "name": "stdout",
     "output_type": "stream",
     "text": [
      "Epoch 1/5\n",
      "1875/1875 [==============================] - 6s 3ms/step - loss: 1.5011 - accuracy: 0.6872\n",
      "Epoch 2/5\n",
      "1875/1875 [==============================] - 5s 3ms/step - loss: 0.7589 - accuracy: 0.8442\n",
      "Epoch 3/5\n",
      "1875/1875 [==============================] - 6s 3ms/step - loss: 0.5564 - accuracy: 0.8707\n",
      "Epoch 4/5\n",
      "1875/1875 [==============================] - 5s 3ms/step - loss: 0.4690 - accuracy: 0.8825\n",
      "Epoch 5/5\n",
      "1875/1875 [==============================] - 5s 3ms/step - loss: 0.4200 - accuracy: 0.8908\n"
     ]
    },
    {
     "data": {
      "text/plain": [
       "<keras.src.callbacks.History at 0x78b9c05d2ad0>"
      ]
     },
     "execution_count": 29,
     "metadata": {},
     "output_type": "execute_result"
    }
   ],
   "source": [
    "## モデルの学習\n",
    "\n",
    "model.fit(x_train, y_train, epochs=5)"
   ]
  },
  {
   "cell_type": "markdown",
   "metadata": {
    "id": "hEZZXBFvjmCj",
    "slideshow": {
     "slide_type": "fragment"
    }
   },
   "source": [
    "ここで、エポック(epoch)とは、数字画像全体(60,000枚)を一通り学習すると1回とカウントする数値なので、この場合は5回繰り返し学習していることになる。学習結果は次のとおりである。なお、学習時のネットワークの重みの初期値が乱数によって設定されるため、学習ごとに微妙に結果の値が異なる点を留意されたい。"
   ]
  },
  {
   "cell_type": "markdown",
   "metadata": {
    "id": "J4zJTVJxjood",
    "slideshow": {
     "slide_type": "fragment"
    }
   },
   "source": [
    "これより、学習データについては、89.08%の認識率が得られていることがわかる。次に、テストデータについての認識率を評価してみよう。"
   ]
  },
  {
   "cell_type": "code",
   "execution_count": 30,
   "metadata": {
    "colab": {
     "base_uri": "https://localhost:8080/"
    },
    "executionInfo": {
     "elapsed": 1195,
     "status": "ok",
     "timestamp": 1701824755436,
     "user": {
      "displayName": "和﨑克己",
      "userId": "01531185103078206810"
     },
     "user_tz": -540
    },
    "id": "aUUhGlQfjqEe",
    "outputId": "53a54d59-6c7f-4684-9b43-93338011ba70",
    "slideshow": {
     "slide_type": "slide"
    }
   },
   "outputs": [
    {
     "name": "stdout",
     "output_type": "stream",
     "text": [
      "313/313 [==============================] - 1s 3ms/step - loss: 0.3863 - accuracy: 0.8982\n",
      "0.8981999754905701\n"
     ]
    }
   ],
   "source": [
    "# 認識率の評価\n",
    "\n",
    "test_loss, test_acc = model.evaluate(x_test, y_test)\n",
    "print(test_acc)"
   ]
  },
  {
   "cell_type": "markdown",
   "metadata": {
    "id": "ku57kTNCjuMS",
    "slideshow": {
     "slide_type": "fragment"
    }
   },
   "source": [
    "この結果から、テストデータの認識率は 89.81% となっていることがわかる。"
   ]
  },
  {
   "cell_type": "markdown",
   "metadata": {
    "id": "SyWbH7knfPQY",
    "slideshow": {
     "slide_type": "slide"
    }
   },
   "source": [
    "## 5. ニューラルネットワークの構成・学習法の変更による効果\n",
    "\n",
    "次に、学習に用いるニューラルネットワークの構造や各種パラメータを変更して、さらにテストデータの認識率を向上させることができるかを検証してみよう。\n"
   ]
  },
  {
   "cell_type": "markdown",
   "metadata": {
    "id": "YHgTs_XJfWFW",
    "slideshow": {
     "slide_type": "slide"
    }
   },
   "source": [
    "### 5.1 中間層の活性化関数をシグモイド関数からReLUに変更\n",
    "\n",
    "最初に中間層の活性化関数(*1) をシグモイド関数からReLUに変更してみる。プログラムで、sigmoidの部分をreluに変更する（下記 activation='relu' の部分）。\n",
    "\n",
    "> (*1) 利用可能な活性化関数は次のURLを参照：https://keras.io/ja/activations/"
   ]
  },
  {
   "cell_type": "code",
   "execution_count": 31,
   "metadata": {
    "executionInfo": {
     "elapsed": 3,
     "status": "ok",
     "timestamp": 1701824755436,
     "user": {
      "displayName": "和﨑克己",
      "userId": "01531185103078206810"
     },
     "user_tz": -540
    },
    "id": "4yr8ED88fiiX",
    "slideshow": {
     "slide_type": "fragment"
    }
   },
   "outputs": [],
   "source": [
    "# モデル構築(B)\n",
    "\n",
    "model = tf.keras.Sequential([\n",
    "  tf.keras.layers.Flatten(input_shape=(28, 28)),\n",
    "  tf.keras.layers.Dense(64, activation='relu'),  #活性化関数：ReLUを指定\n",
    "  tf.keras.layers.Dense(10)\n",
    "])\n",
    "model.compile(optimizer='sgd',\n",
    "              loss=tf.keras.losses.SparseCategoricalCrossentropy(from_logits=True),\n",
    "              metrics=['accuracy'])"
   ]
  },
  {
   "cell_type": "code",
   "execution_count": 32,
   "metadata": {
    "colab": {
     "base_uri": "https://localhost:8080/"
    },
    "executionInfo": {
     "elapsed": 42415,
     "status": "ok",
     "timestamp": 1701824797849,
     "user": {
      "displayName": "和﨑克己",
      "userId": "01531185103078206810"
     },
     "user_tz": -540
    },
    "id": "PF8l2oLVfzTo",
    "outputId": "2650061d-26c7-42e5-d1c8-585c12c24d60",
    "slideshow": {
     "slide_type": "slide"
    }
   },
   "outputs": [
    {
     "name": "stdout",
     "output_type": "stream",
     "text": [
      "Epoch 1/5\n",
      "1875/1875 [==============================] - 6s 3ms/step - loss: 0.6652 - accuracy: 0.8297\n",
      "Epoch 2/5\n",
      "1875/1875 [==============================] - 5s 3ms/step - loss: 0.3397 - accuracy: 0.9063\n",
      "Epoch 3/5\n",
      "1875/1875 [==============================] - 7s 4ms/step - loss: 0.2906 - accuracy: 0.9179\n",
      "Epoch 4/5\n",
      "1875/1875 [==============================] - 5s 3ms/step - loss: 0.2613 - accuracy: 0.9264\n",
      "Epoch 5/5\n",
      "1875/1875 [==============================] - 6s 3ms/step - loss: 0.2399 - accuracy: 0.9325\n"
     ]
    },
    {
     "data": {
      "text/plain": [
       "<keras.src.callbacks.History at 0x78b9ea526230>"
      ]
     },
     "execution_count": 32,
     "metadata": {},
     "output_type": "execute_result"
    }
   ],
   "source": [
    "## モデルの学習\n",
    "\n",
    "model.fit(x_train, y_train, epochs=5)"
   ]
  },
  {
   "cell_type": "code",
   "execution_count": 33,
   "metadata": {
    "colab": {
     "base_uri": "https://localhost:8080/"
    },
    "executionInfo": {
     "elapsed": 581,
     "status": "ok",
     "timestamp": 1701824798416,
     "user": {
      "displayName": "和﨑克己",
      "userId": "01531185103078206810"
     },
     "user_tz": -540
    },
    "id": "auBEmjNAf8MK",
    "outputId": "890cbae8-7e5a-40ac-d380-b9acf352a797",
    "slideshow": {
     "slide_type": "slide"
    }
   },
   "outputs": [
    {
     "name": "stdout",
     "output_type": "stream",
     "text": [
      "313/313 [==============================] - 1s 2ms/step - loss: 0.2221 - accuracy: 0.9355\n",
      "0.9355000257492065\n"
     ]
    }
   ],
   "source": [
    "# 認識率の評価\n",
    "\n",
    "test_loss, test_acc = model.evaluate(x_test, y_test)\n",
    "print(test_acc)"
   ]
  },
  {
   "cell_type": "markdown",
   "metadata": {
    "id": "GcoOHjRxghDK",
    "slideshow": {
     "slide_type": "fragment"
    }
   },
   "source": [
    "他のプログラムは前回と同様である。このモデルを用いた結果、学習データに対する認識率は93.25%、テストデータに対する認識率は93.55%に向上する。"
   ]
  },
  {
   "cell_type": "markdown",
   "metadata": {
    "id": "WAIbJj_FgoF4",
    "slideshow": {
     "slide_type": "slide"
    }
   },
   "source": [
    "### 5.2 中間層のユニット数を64個から128個に増やす\n",
    "\n",
    "次に、中間層のユニット数を64個から128個に増やしてみる。プログラムで、下記 tf.keras.layers.Dense(128, activation='relu') の部分を修正する。"
   ]
  },
  {
   "cell_type": "code",
   "execution_count": 34,
   "metadata": {
    "executionInfo": {
     "elapsed": 3,
     "status": "ok",
     "timestamp": 1701824798416,
     "user": {
      "displayName": "和﨑克己",
      "userId": "01531185103078206810"
     },
     "user_tz": -540
    },
    "id": "CrauxYOYg1cE",
    "slideshow": {
     "slide_type": "fragment"
    }
   },
   "outputs": [],
   "source": [
    "# モデル構築(C)\n",
    "\n",
    "model = tf.keras.Sequential([\n",
    "  tf.keras.layers.Flatten(input_shape=(28, 28)),\n",
    "  tf.keras.layers.Dense(128, activation='relu'),  #中間層：ユニット数128、活性化関数：ReLUを指定\n",
    "  tf.keras.layers.Dense(10)\n",
    "])\n",
    "model.compile(optimizer='sgd',\n",
    "              loss=tf.keras.losses.SparseCategoricalCrossentropy(from_logits=True),\n",
    "              metrics=['accuracy'])"
   ]
  },
  {
   "cell_type": "code",
   "execution_count": 35,
   "metadata": {
    "colab": {
     "base_uri": "https://localhost:8080/"
    },
    "executionInfo": {
     "elapsed": 29569,
     "status": "ok",
     "timestamp": 1701824827982,
     "user": {
      "displayName": "和﨑克己",
      "userId": "01531185103078206810"
     },
     "user_tz": -540
    },
    "id": "O7uqF4Qcg9RX",
    "outputId": "58a88b7b-27c6-46f5-c73d-ed2f84c0e3a5",
    "slideshow": {
     "slide_type": "slide"
    }
   },
   "outputs": [
    {
     "name": "stdout",
     "output_type": "stream",
     "text": [
      "Epoch 1/5\n",
      "1875/1875 [==============================] - 5s 3ms/step - loss: 0.6627 - accuracy: 0.8339\n",
      "Epoch 2/5\n",
      "1875/1875 [==============================] - 6s 3ms/step - loss: 0.3369 - accuracy: 0.9057\n",
      "Epoch 3/5\n",
      "1875/1875 [==============================] - 6s 3ms/step - loss: 0.2864 - accuracy: 0.9194\n",
      "Epoch 4/5\n",
      "1875/1875 [==============================] - 6s 3ms/step - loss: 0.2555 - accuracy: 0.9280\n",
      "Epoch 5/5\n",
      "1875/1875 [==============================] - 6s 3ms/step - loss: 0.2325 - accuracy: 0.9358\n"
     ]
    },
    {
     "data": {
      "text/plain": [
       "<keras.src.callbacks.History at 0x78b9c02e0070>"
      ]
     },
     "execution_count": 35,
     "metadata": {},
     "output_type": "execute_result"
    }
   ],
   "source": [
    "## モデルの学習\n",
    "\n",
    "model.fit(x_train, y_train, epochs=5)"
   ]
  },
  {
   "cell_type": "code",
   "execution_count": 36,
   "metadata": {
    "colab": {
     "base_uri": "https://localhost:8080/"
    },
    "executionInfo": {
     "elapsed": 1100,
     "status": "ok",
     "timestamp": 1701824829066,
     "user": {
      "displayName": "和﨑克己",
      "userId": "01531185103078206810"
     },
     "user_tz": -540
    },
    "id": "e-MsINsXg-jB",
    "outputId": "6146e67d-7e03-46c0-b704-95287d9828bb",
    "slideshow": {
     "slide_type": "slide"
    }
   },
   "outputs": [
    {
     "name": "stdout",
     "output_type": "stream",
     "text": [
      "313/313 [==============================] - 1s 2ms/step - loss: 0.2189 - accuracy: 0.9379\n",
      "0.9379000067710876\n"
     ]
    }
   ],
   "source": [
    "# 認識率の評価\n",
    "\n",
    "test_loss, test_acc = model.evaluate(x_test, y_test)\n",
    "print(test_acc)"
   ]
  },
  {
   "cell_type": "markdown",
   "metadata": {
    "id": "922EUeSXhQXE",
    "slideshow": {
     "slide_type": "fragment"
    }
   },
   "source": [
    "結果、学習データとテストデータに対する認識率は、それぞれ93.58%、93.79%と若干ではあるが向上がみられた。その後、さらにユニット数を256個とする実験も行ったが、テストデータに対する認識率は、ほとんど変わらなかったため、ここでは128個に固定する。"
   ]
  },
  {
   "cell_type": "markdown",
   "metadata": {
    "id": "tyj-SGdhhWCt",
    "slideshow": {
     "slide_type": "slide"
    }
   },
   "source": [
    "### 5.3 最適化アルゴリズムをSGDからAdamに変更\n",
    "\n",
    "次に、最適化アルゴリズム(*2) をSGDからAdamに変更してみる。プログラムでは、下記 optimizer='adam' の部分を修正する。\n",
    "\n",
    "> (*2) 利用可能な最適化アルゴリズムは次のURLを参照：https://keras.io/ja/optimizers/"
   ]
  },
  {
   "cell_type": "code",
   "execution_count": 37,
   "metadata": {
    "executionInfo": {
     "elapsed": 4,
     "status": "ok",
     "timestamp": 1701824829066,
     "user": {
      "displayName": "和﨑克己",
      "userId": "01531185103078206810"
     },
     "user_tz": -540
    },
    "id": "g6i3Vsvlhayl",
    "slideshow": {
     "slide_type": "fragment"
    }
   },
   "outputs": [],
   "source": [
    "# モデル構築(D)\n",
    "\n",
    "model = tf.keras.Sequential([\n",
    "  tf.keras.layers.Flatten(input_shape=(28, 28)),\n",
    "  tf.keras.layers.Dense(128, activation='relu'),  #中間層：ユニット数128、活性化関数：ReLUを指定\n",
    "  tf.keras.layers.Dense(10)\n",
    "])\n",
    "model.compile(optimizer='adam',   # 最適化アルゴリズム：Adam\n",
    "              loss=tf.keras.losses.SparseCategoricalCrossentropy(from_logits=True),\n",
    "              metrics=['accuracy'])"
   ]
  },
  {
   "cell_type": "code",
   "execution_count": 52,
   "metadata": {
    "colab": {
     "base_uri": "https://localhost:8080/"
    },
    "executionInfo": {
     "elapsed": 27428,
     "status": "ok",
     "timestamp": 1701825080330,
     "user": {
      "displayName": "和﨑克己",
      "userId": "01531185103078206810"
     },
     "user_tz": -540
    },
    "id": "mEsV9eWlhl0N",
    "outputId": "1461ff20-1176-4aec-f160-ba21a2c4fba4",
    "slideshow": {
     "slide_type": "slide"
    }
   },
   "outputs": [
    {
     "name": "stdout",
     "output_type": "stream",
     "text": [
      "Epoch 1/5\n",
      "1875/1875 [==============================] - 6s 3ms/step - loss: 0.1039 - accuracy: 0.9678\n",
      "Epoch 2/5\n",
      "1875/1875 [==============================] - 5s 3ms/step - loss: 0.0992 - accuracy: 0.9683\n",
      "Epoch 3/5\n",
      "1875/1875 [==============================] - 6s 3ms/step - loss: 0.0934 - accuracy: 0.9708\n",
      "Epoch 4/5\n",
      "1875/1875 [==============================] - 5s 3ms/step - loss: 0.0876 - accuracy: 0.9725\n",
      "Epoch 5/5\n",
      "1875/1875 [==============================] - 5s 3ms/step - loss: 0.0820 - accuracy: 0.9733\n"
     ]
    },
    {
     "data": {
      "text/plain": [
       "<keras.src.callbacks.History at 0x78b9c03ad4b0>"
      ]
     },
     "execution_count": 52,
     "metadata": {},
     "output_type": "execute_result"
    }
   ],
   "source": [
    "## モデルの学習\n",
    "\n",
    "model.fit(x_train, y_train, epochs=5)"
   ]
  },
  {
   "cell_type": "code",
   "execution_count": 39,
   "metadata": {
    "colab": {
     "base_uri": "https://localhost:8080/"
    },
    "executionInfo": {
     "elapsed": 752,
     "status": "ok",
     "timestamp": 1701824859599,
     "user": {
      "displayName": "和﨑克己",
      "userId": "01531185103078206810"
     },
     "user_tz": -540
    },
    "id": "FltuofIHhnB9",
    "outputId": "41dc33b5-04ca-4a15-9224-0e98e88a82fa",
    "slideshow": {
     "slide_type": "slide"
    }
   },
   "outputs": [
    {
     "name": "stdout",
     "output_type": "stream",
     "text": [
      "313/313 [==============================] - 1s 2ms/step - loss: 0.0814 - accuracy: 0.9744\n",
      "0.974399983882904\n"
     ]
    }
   ],
   "source": [
    "# 認識率の評価\n",
    "\n",
    "test_loss, test_acc = model.evaluate(x_test, y_test)\n",
    "print(test_acc)"
   ]
  },
  {
   "cell_type": "markdown",
   "metadata": {
    "id": "MXmUXuKRiSoO",
    "slideshow": {
     "slide_type": "fragment"
    }
   },
   "source": [
    "この結果、学習データとテストデータに対する認識率は、それぞれ 98.65%、97.44%と向上した（以後、Adamに固定）。"
   ]
  },
  {
   "cell_type": "markdown",
   "metadata": {
    "id": "ojEjS4cziXQv",
    "slideshow": {
     "slide_type": "slide"
    }
   },
   "source": [
    "### 5.4 中間層を4層構造にする\n",
    "\n",
    "次に、中間層の数を1つ増やして、全体で4層構造のニューラルネットワークにしてみる。ここでは、中間層の第1層は128個のままとし、第2層として64個のものを追加する。使用する活性化関数はともにReLUである。\n"
   ]
  },
  {
   "cell_type": "code",
   "execution_count": 40,
   "metadata": {
    "executionInfo": {
     "elapsed": 2,
     "status": "ok",
     "timestamp": 1701824859599,
     "user": {
      "displayName": "和﨑克己",
      "userId": "01531185103078206810"
     },
     "user_tz": -540
    },
    "id": "ojRhsaUXilvV",
    "slideshow": {
     "slide_type": "fragment"
    }
   },
   "outputs": [],
   "source": [
    "# モデル構築(E)\n",
    "\n",
    "model = tf.keras.Sequential([\n",
    "  tf.keras.layers.Flatten(input_shape=(28, 28)),\n",
    "  tf.keras.layers.Dense(128, activation='relu'),  #中間層：ユニット数128、活性化関数：ReLUを指定\n",
    "  tf.keras.layers.Dense(64, activation='relu'),  #中間層：ユニット数64、活性化関数：ReLUを指定（この層を追加）\n",
    "  tf.keras.layers.Dense(10)\n",
    "])\n",
    "model.compile(optimizer='adam',   # 最適化アルゴリズム：Adam\n",
    "              loss=tf.keras.losses.SparseCategoricalCrossentropy(from_logits=True),\n",
    "              metrics=['accuracy'])"
   ]
  },
  {
   "cell_type": "code",
   "execution_count": 41,
   "metadata": {
    "colab": {
     "base_uri": "https://localhost:8080/"
    },
    "executionInfo": {
     "elapsed": 33038,
     "status": "ok",
     "timestamp": 1701824892635,
     "user": {
      "displayName": "和﨑克己",
      "userId": "01531185103078206810"
     },
     "user_tz": -540
    },
    "id": "pRs7Ql6ji4Qu",
    "outputId": "574c9b2d-80d3-4350-b780-e2fb5c8e93be",
    "slideshow": {
     "slide_type": "slide"
    }
   },
   "outputs": [
    {
     "name": "stdout",
     "output_type": "stream",
     "text": [
      "Epoch 1/5\n",
      "1875/1875 [==============================] - 7s 4ms/step - loss: 0.2434 - accuracy: 0.9271\n",
      "Epoch 2/5\n",
      "1875/1875 [==============================] - 5s 3ms/step - loss: 0.0984 - accuracy: 0.9703\n",
      "Epoch 3/5\n",
      "1875/1875 [==============================] - 6s 3ms/step - loss: 0.0694 - accuracy: 0.9777\n",
      "Epoch 4/5\n",
      "1875/1875 [==============================] - 8s 4ms/step - loss: 0.0521 - accuracy: 0.9830\n",
      "Epoch 5/5\n",
      "1875/1875 [==============================] - 6s 3ms/step - loss: 0.0411 - accuracy: 0.9868\n"
     ]
    },
    {
     "data": {
      "text/plain": [
       "<keras.src.callbacks.History at 0x78b9ac796ef0>"
      ]
     },
     "execution_count": 41,
     "metadata": {},
     "output_type": "execute_result"
    }
   ],
   "source": [
    "## モデルの学習\n",
    "\n",
    "model.fit(x_train, y_train, epochs=5)"
   ]
  },
  {
   "cell_type": "code",
   "execution_count": 42,
   "metadata": {
    "colab": {
     "base_uri": "https://localhost:8080/"
    },
    "executionInfo": {
     "elapsed": 1225,
     "status": "ok",
     "timestamp": 1701824893837,
     "user": {
      "displayName": "和﨑克己",
      "userId": "01531185103078206810"
     },
     "user_tz": -540
    },
    "id": "u55RJ7AHi2r5",
    "outputId": "666f48e4-fc2b-443b-d7ff-ea32c6674f73",
    "slideshow": {
     "slide_type": "slide"
    }
   },
   "outputs": [
    {
     "name": "stdout",
     "output_type": "stream",
     "text": [
      "313/313 [==============================] - 1s 4ms/step - loss: 0.0745 - accuracy: 0.9790\n",
      "0.9789999723434448\n"
     ]
    }
   ],
   "source": [
    "# 認識率の評価\n",
    "\n",
    "test_loss, test_acc = model.evaluate(x_test, y_test)\n",
    "print(test_acc)"
   ]
  },
  {
   "cell_type": "markdown",
   "metadata": {
    "id": "PGv5DH41jHPB",
    "slideshow": {
     "slide_type": "fragment"
    }
   },
   "source": [
    "この結果、学習データとテストデータに対する認識率は、それぞれ 98.68%、97.90%となった。これより、学習データについては若干向上したが、テストデータについては若干下がってしまった。この傾向は、学習データに過剰に適応した**過学習（overfitting）の状態を示している**ため、以後は、中間層を1層として固定することにする。"
   ]
  },
  {
   "cell_type": "markdown",
   "metadata": {
    "id": "xfhrIv5gjp_H",
    "slideshow": {
     "slide_type": "slide"
    }
   },
   "source": [
    "### 5.5 学習回数（エポック）を増やす\n",
    "\n",
    "次に、学習回数（エポック）を5から10に変更してみよう。"
   ]
  },
  {
   "cell_type": "code",
   "execution_count": 43,
   "metadata": {
    "executionInfo": {
     "elapsed": 4,
     "status": "ok",
     "timestamp": 1701824893837,
     "user": {
      "displayName": "和﨑克己",
      "userId": "01531185103078206810"
     },
     "user_tz": -540
    },
    "id": "rdcVhcGuj2G0",
    "slideshow": {
     "slide_type": "fragment"
    }
   },
   "outputs": [],
   "source": [
    "# モデル構築(D)へ戻す\n",
    "\n",
    "model = tf.keras.Sequential([\n",
    "  tf.keras.layers.Flatten(input_shape=(28, 28)),\n",
    "  tf.keras.layers.Dense(128, activation='relu'),  #中間層：ユニット数128、活性化関数：ReLUを指定\n",
    "  tf.keras.layers.Dense(10)\n",
    "])\n",
    "model.compile(optimizer='adam',   # 最適化アルゴリズム：Adam\n",
    "              loss=tf.keras.losses.SparseCategoricalCrossentropy(from_logits=True),\n",
    "              metrics=['accuracy'])"
   ]
  },
  {
   "cell_type": "code",
   "execution_count": 44,
   "metadata": {
    "colab": {
     "base_uri": "https://localhost:8080/"
    },
    "executionInfo": {
     "elapsed": 83169,
     "status": "ok",
     "timestamp": 1701824977003,
     "user": {
      "displayName": "和﨑克己",
      "userId": "01531185103078206810"
     },
     "user_tz": -540
    },
    "id": "YLoGaAmTj_gL",
    "outputId": "f63ebab1-76d3-4f5d-9e93-c726e3e4d623",
    "slideshow": {
     "slide_type": "slide"
    }
   },
   "outputs": [
    {
     "name": "stdout",
     "output_type": "stream",
     "text": [
      "Epoch 1/10\n",
      "1875/1875 [==============================] - 6s 3ms/step - loss: 0.2613 - accuracy: 0.9260\n",
      "Epoch 2/10\n",
      "1875/1875 [==============================] - 5s 3ms/step - loss: 0.1144 - accuracy: 0.9664\n",
      "Epoch 3/10\n",
      "1875/1875 [==============================] - 6s 3ms/step - loss: 0.0793 - accuracy: 0.9751\n",
      "Epoch 4/10\n",
      "1875/1875 [==============================] - 5s 3ms/step - loss: 0.0591 - accuracy: 0.9817\n",
      "Epoch 5/10\n",
      "1875/1875 [==============================] - 6s 3ms/step - loss: 0.0458 - accuracy: 0.9863\n",
      "Epoch 6/10\n",
      "1875/1875 [==============================] - 5s 3ms/step - loss: 0.0360 - accuracy: 0.9888\n",
      "Epoch 7/10\n",
      "1875/1875 [==============================] - 5s 3ms/step - loss: 0.0283 - accuracy: 0.9909\n",
      "Epoch 8/10\n",
      "1875/1875 [==============================] - 6s 3ms/step - loss: 0.0234 - accuracy: 0.9926\n",
      "Epoch 9/10\n",
      "1875/1875 [==============================] - 5s 3ms/step - loss: 0.0193 - accuracy: 0.9937\n",
      "Epoch 10/10\n",
      "1875/1875 [==============================] - 5s 3ms/step - loss: 0.0157 - accuracy: 0.9951\n"
     ]
    },
    {
     "data": {
      "text/plain": [
       "<keras.src.callbacks.History at 0x78b9ac620b50>"
      ]
     },
     "execution_count": 44,
     "metadata": {},
     "output_type": "execute_result"
    }
   ],
   "source": [
    "## モデルの学習\n",
    "\n",
    "model.fit(x_train, y_train, epochs=10)  #学習回数(エポック数）を10に変更"
   ]
  },
  {
   "cell_type": "code",
   "execution_count": 45,
   "metadata": {
    "colab": {
     "base_uri": "https://localhost:8080/"
    },
    "executionInfo": {
     "elapsed": 1122,
     "status": "ok",
     "timestamp": 1701824978103,
     "user": {
      "displayName": "和﨑克己",
      "userId": "01531185103078206810"
     },
     "user_tz": -540
    },
    "id": "XhgjmoZBkIE8",
    "outputId": "bfac7251-67d9-43f8-f476-04be0a996045",
    "slideshow": {
     "slide_type": "slide"
    }
   },
   "outputs": [
    {
     "name": "stdout",
     "output_type": "stream",
     "text": [
      "313/313 [==============================] - 1s 2ms/step - loss: 0.0751 - accuracy: 0.9797\n",
      "0.9797000288963318\n"
     ]
    }
   ],
   "source": [
    "# 認識率の評価\n",
    "\n",
    "test_loss, test_acc = model.evaluate(x_test, y_test)\n",
    "print(test_acc)"
   ]
  },
  {
   "cell_type": "markdown",
   "metadata": {
    "id": "C61MgWkpke-r",
    "slideshow": {
     "slide_type": "fragment"
    }
   },
   "source": [
    "結果、学習データとテストデータに対する認識率は、それぞれ 99.51%、97.97%となり、ここでも、過学習傾向となったため、エポック数は5程度で十分と考えられる。"
   ]
  },
  {
   "cell_type": "markdown",
   "metadata": {
    "id": "8Rx4-1VBkknX",
    "slideshow": {
     "slide_type": "slide"
    }
   },
   "source": [
    "### 5.6 ドロップアウト機能の導入\n",
    "\n",
    "最後に、過学習の傾向を抑制するために、ドロップアウトの機能を導入してみよう。ここでは、出力層以外のユニットのうち、2割をランダムに無効化して学習することにする。\n"
   ]
  },
  {
   "cell_type": "code",
   "execution_count": 46,
   "metadata": {
    "executionInfo": {
     "elapsed": 2,
     "status": "ok",
     "timestamp": 1701824978103,
     "user": {
      "displayName": "和﨑克己",
      "userId": "01531185103078206810"
     },
     "user_tz": -540
    },
    "id": "BlryyrUUkxkv",
    "slideshow": {
     "slide_type": "fragment"
    }
   },
   "outputs": [],
   "source": [
    "# モデル構築(D) + Dropout 20%\n",
    "\n",
    "model = tf.keras.Sequential([\n",
    "  tf.keras.layers.Flatten(input_shape=(28, 28)),\n",
    "  tf.keras.layers.Dense(128, activation='relu'),  #中間層：ユニット数128、活性化関数：ReLUを指定\n",
    "  tf.keras.layers.Dropout(0.2),  # 2割をドロップアウト\n",
    "  tf.keras.layers.Dense(10)\n",
    "])\n",
    "model.compile(optimizer='adam',   # 最適化アルゴリズム：Adam\n",
    "              loss=tf.keras.losses.SparseCategoricalCrossentropy(from_logits=True),\n",
    "              metrics=['accuracy'])\n"
   ]
  },
  {
   "cell_type": "code",
   "execution_count": 47,
   "metadata": {
    "colab": {
     "base_uri": "https://localhost:8080/"
    },
    "executionInfo": {
     "elapsed": 42055,
     "status": "ok",
     "timestamp": 1701825020157,
     "user": {
      "displayName": "和﨑克己",
      "userId": "01531185103078206810"
     },
     "user_tz": -540
    },
    "id": "dnNLb-iLm9uX",
    "outputId": "13c9964b-c5e0-424a-fc7d-7969999520b6",
    "slideshow": {
     "slide_type": "slide"
    }
   },
   "outputs": [
    {
     "name": "stdout",
     "output_type": "stream",
     "text": [
      "Epoch 1/5\n",
      "1875/1875 [==============================] - 6s 3ms/step - loss: 0.3005 - accuracy: 0.9134\n",
      "Epoch 2/5\n",
      "1875/1875 [==============================] - 6s 3ms/step - loss: 0.1438 - accuracy: 0.9574\n",
      "Epoch 3/5\n",
      "1875/1875 [==============================] - 5s 3ms/step - loss: 0.1072 - accuracy: 0.9675\n",
      "Epoch 4/5\n",
      "1875/1875 [==============================] - 7s 4ms/step - loss: 0.0877 - accuracy: 0.9725\n",
      "Epoch 5/5\n",
      "1875/1875 [==============================] - 5s 3ms/step - loss: 0.0747 - accuracy: 0.9764\n"
     ]
    },
    {
     "data": {
      "text/plain": [
       "<keras.src.callbacks.History at 0x78b9ac409a80>"
      ]
     },
     "execution_count": 47,
     "metadata": {},
     "output_type": "execute_result"
    }
   ],
   "source": [
    "## モデルの学習\n",
    "\n",
    "model.fit(x_train, y_train, epochs=5)  #学習回数(エポック数）は5を維持"
   ]
  },
  {
   "cell_type": "code",
   "execution_count": 48,
   "metadata": {
    "colab": {
     "base_uri": "https://localhost:8080/"
    },
    "executionInfo": {
     "elapsed": 1066,
     "status": "ok",
     "timestamp": 1701825021202,
     "user": {
      "displayName": "和﨑克己",
      "userId": "01531185103078206810"
     },
     "user_tz": -540
    },
    "id": "pnuywAFdnFHb",
    "outputId": "4058c45b-1802-4541-a32a-86522ed15a36",
    "slideshow": {
     "slide_type": "slide"
    }
   },
   "outputs": [
    {
     "name": "stdout",
     "output_type": "stream",
     "text": [
      "313/313 [==============================] - 1s 2ms/step - loss: 0.0690 - accuracy: 0.9787\n",
      "0.9786999821662903\n"
     ]
    }
   ],
   "source": [
    "# 認識率の評価\n",
    "\n",
    "test_loss, test_acc = model.evaluate(x_test, y_test)\n",
    "print(test_acc)"
   ]
  },
  {
   "cell_type": "markdown",
   "metadata": {
    "id": "Ug1DSJHrnQ1a",
    "slideshow": {
     "slide_type": "fragment"
    }
   },
   "source": [
    "これにより、学習データとテストデータに対する認識率は、それぞれ 97.64%、97.87%となり、学習データについては認識率は落ちるが（過学習傾向の抑制）、テストデータについての認識率は向上していることがわかる。"
   ]
  },
  {
   "cell_type": "markdown",
   "metadata": {
    "id": "WaVSnPqmpj2-",
    "slideshow": {
     "slide_type": "slide"
    }
   },
   "source": [
    "同じ条件で、ドロップアウトの確率を4割にした場合は、学習・テストデータ両方で、若干、認識率が下がってしまった。これより、あまり多くのユニットを削減してしまうと、認識率の低下につながってしまうため、適切な値を見つける必要がある。"
   ]
  },
  {
   "cell_type": "code",
   "execution_count": 49,
   "metadata": {
    "executionInfo": {
     "elapsed": 589,
     "status": "ok",
     "timestamp": 1701825021789,
     "user": {
      "displayName": "和﨑克己",
      "userId": "01531185103078206810"
     },
     "user_tz": -540
    },
    "id": "w7jBCTymp1Hg",
    "slideshow": {
     "slide_type": "fragment"
    }
   },
   "outputs": [],
   "source": [
    "# モデル構築(D) + Dropout 40%\n",
    "\n",
    "model = tf.keras.Sequential([\n",
    "  tf.keras.layers.Flatten(input_shape=(28, 28)),\n",
    "  tf.keras.layers.Dense(128, activation='relu'),  #中間層：ユニット数128、活性化関数：ReLUを指定\n",
    "  tf.keras.layers.Dropout(0.4),  # 4割をドロップアウト\n",
    "  tf.keras.layers.Dense(10)\n",
    "])\n",
    "model.compile(optimizer='adam',   # 最適化アルゴリズム：Adam\n",
    "              loss=tf.keras.losses.SparseCategoricalCrossentropy(from_logits=True),\n",
    "              metrics=['accuracy'])\n"
   ]
  },
  {
   "cell_type": "code",
   "execution_count": 50,
   "metadata": {
    "colab": {
     "base_uri": "https://localhost:8080/"
    },
    "executionInfo": {
     "elapsed": 29437,
     "status": "ok",
     "timestamp": 1701825051222,
     "user": {
      "displayName": "和﨑克己",
      "userId": "01531185103078206810"
     },
     "user_tz": -540
    },
    "id": "KAi1e7gkqEPj",
    "outputId": "081ab34f-c876-46f2-f7d8-86156d4a1f7e",
    "slideshow": {
     "slide_type": "slide"
    }
   },
   "outputs": [
    {
     "name": "stdout",
     "output_type": "stream",
     "text": [
      "Epoch 1/5\n",
      "1875/1875 [==============================] - 7s 3ms/step - loss: 0.3498 - accuracy: 0.8949\n",
      "Epoch 2/5\n",
      "1875/1875 [==============================] - 6s 3ms/step - loss: 0.1848 - accuracy: 0.9452\n",
      "Epoch 3/5\n",
      "1875/1875 [==============================] - 6s 3ms/step - loss: 0.1470 - accuracy: 0.9563\n",
      "Epoch 4/5\n",
      "1875/1875 [==============================] - 6s 3ms/step - loss: 0.1256 - accuracy: 0.9612\n",
      "Epoch 5/5\n",
      "1875/1875 [==============================] - 5s 3ms/step - loss: 0.1124 - accuracy: 0.9654\n"
     ]
    },
    {
     "data": {
      "text/plain": [
       "<keras.src.callbacks.History at 0x78b9ac345780>"
      ]
     },
     "execution_count": 50,
     "metadata": {},
     "output_type": "execute_result"
    }
   ],
   "source": [
    "## モデルの学習\n",
    "\n",
    "model.fit(x_train, y_train, epochs=5)  #学習回数(エポック数）は5を維持"
   ]
  },
  {
   "cell_type": "code",
   "execution_count": 51,
   "metadata": {
    "colab": {
     "base_uri": "https://localhost:8080/"
    },
    "executionInfo": {
     "elapsed": 1685,
     "status": "ok",
     "timestamp": 1701825052904,
     "user": {
      "displayName": "和﨑克己",
      "userId": "01531185103078206810"
     },
     "user_tz": -540
    },
    "id": "OwTzvzFvqFYw",
    "outputId": "7eba9ba8-1c08-42b9-f344-b931e9bd99a1",
    "slideshow": {
     "slide_type": "slide"
    }
   },
   "outputs": [
    {
     "name": "stdout",
     "output_type": "stream",
     "text": [
      "313/313 [==============================] - 1s 2ms/step - loss: 0.0841 - accuracy: 0.9747\n",
      "0.9746999740600586\n"
     ]
    }
   ],
   "source": [
    "# 認識率の評価\n",
    "\n",
    "test_loss, test_acc = model.evaluate(x_test, y_test)\n",
    "print(test_acc)"
   ]
  },
  {
   "cell_type": "markdown",
   "metadata": {
    "id": "aLROaSxLihro",
    "slideshow": {
     "slide_type": "slide"
    }
   },
   "source": [
    "### 5.7 評価結果のまとめ\n",
    "\n",
    "以上、今回の構造やパラメータ変更によって得られた結果を下表にまとめる。このように、ニューラルネットワークの学習を行う際には、様々なパラメータを試して、最適なモデルを探る必要がある。\n",
    "\n",
    "<br>\n",
    "<table>\n",
    "<tablecaption>表9 各種パラメータを変更した場合の認識率</tablecaption>\n",
    "\n",
    "| 中間層1:ユニット数 | 活性化 | 中間層2:ユニット数 | 活性化 | 最適化 | dropout | epoch | 認識率:学習 | 認識率:テスト |\n",
    "| :-: | :-: | :-: | :-: | :-: | :-: | :-: | :-: | :-: |\n",
    "| 64 | sigmoid | ---- | ---- | SDG | ---- | 5 | 89.08% | 89.81% |\n",
    "| 64 | ReLU | ---- | ---- | SDG | ---- | 5 | 93.25% | 93.55% |\n",
    "| 128 | ReLU | ---- | ---- | SDG | ---- | 5 | 93.58% | 93.79% |\n",
    "| 128 | ReLU | ---- | ---- | Adam | ---- | 5 | 98.03% | 97.44% |\n",
    "| 128 | ReLU | 64 | ReLU | Adam | ---- | 5 | 98.68% | 97.90% |\n",
    "| 128 | ReLU | ---- | ---- | Adam | ---- | 10 | 99.51% | 97.97% |\n",
    "| 128 | ReLU | ---- | ---- | Adam | 0.2 | 10 | 97.64% | 97.87% |\n",
    "| 128 | ReLU | ---- | ---- | Adam | 0.4 | 10 | 96.54% | 97.46% |\n",
    "</table>\n"
   ]
  },
  {
   "cell_type": "markdown",
   "metadata": {
    "id": "DHQkZ7WJJOXd",
    "slideshow": {
     "slide_type": "slide"
    }
   },
   "source": [
    "# memo"
   ]
  }
 ],
 "metadata": {
  "accelerator": "GPU",
  "celltoolbar": "Slideshow",
  "colab": {
   "gpuType": "T4",
   "provenance": [
    {
     "file_id": "15H4XWO7LNLE9G-EAe3m9Ww9vT78WolsH",
     "timestamp": 1701681396524
    }
   ],
   "toc_visible": true
  },
  "kernelspec": {
   "display_name": "Python 3 (ipykernel)",
   "language": "python",
   "name": "python3"
  },
  "language_info": {
   "codemirror_mode": {
    "name": "ipython",
    "version": 3
   },
   "file_extension": ".py",
   "mimetype": "text/x-python",
   "name": "python",
   "nbconvert_exporter": "python",
   "pygments_lexer": "ipython3",
   "version": "3.8.18"
  }
 },
 "nbformat": 4,
 "nbformat_minor": 1
}
